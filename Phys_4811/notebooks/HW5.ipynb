{
 "cells": [
  {
   "cell_type": "code",
   "execution_count": 1,
   "metadata": {},
   "outputs": [],
   "source": [
    "from sympy import *\n",
    "from IPython.display import display, Math, Latex\n",
    "init_printing(use_unicode=True)\n",
    "\n",
    "t, r, rs, th, ph = symbols('t r r_s \\\\theta \\\\phi')\n",
    "def print_eq(left, right):\n",
    "    s = '${}={}$'.format(left, right)\n",
    "    display(Latex(s))\n",
    "\n"
   ]
  },
  {
   "cell_type": "markdown",
   "metadata": {},
   "source": [
    "## Part a"
   ]
  },
  {
   "cell_type": "code",
   "execution_count": 2,
   "metadata": {},
   "outputs": [
    {
     "data": {
      "text/latex": [
       "$g_{\\alpha\\beta}=\\left[\\begin{matrix}-1 + \\frac{r_{s}}{r} & 0 & 0 & 0\\\\0 & \\frac{1}{1 - \\frac{r_{s}}{r}} & 0 & 0\\\\0 & 0 & r^{2} & 0\\\\0 & 0 & 0 & r^{2} \\sin^{2}{\\left (\\theta \\right )}\\end{matrix}\\right]$"
      ],
      "text/plain": [
       "<IPython.core.display.Latex object>"
      ]
     },
     "metadata": {},
     "output_type": "display_data"
    },
    {
     "data": {
      "text/latex": [
       "$g^{\\alpha\\beta}=\\left[\\begin{matrix}\\frac{1}{-1 + \\frac{r_{s}}{r}} & 0 & 0 & 0\\\\0 & 1 - \\frac{r_{s}}{r} & 0 & 0\\\\0 & 0 & \\frac{1}{r^{2}} & 0\\\\0 & 0 & 0 & \\frac{1}{r^{2} \\sin^{2}{\\left (\\theta \\right )}}\\end{matrix}\\right]$"
      ],
      "text/plain": [
       "<IPython.core.display.Latex object>"
      ]
     },
     "metadata": {},
     "output_type": "display_data"
    }
   ],
   "source": [
    "g = diag(-(1-rs/r), 1/(1-rs/r), r**2, r**2 *sin(th)**2)\n",
    "g_ = g.inv()\n",
    "print_eq('g_{\\\\alpha\\\\beta}', latex(g))\n",
    "print_eq('g^{\\\\alpha\\\\beta}', latex(g_))"
   ]
  },
  {
   "cell_type": "markdown",
   "metadata": {},
   "source": [
    "The cell above shows the metric tensor $g_{\\alpha\\beta}$ and its inverse $g^{\\alpha\\beta}$. The determination of the inverse metric $g^{\\alpha\\beta}$ is simple in this case as $g_{\\alpha\\beta}$ is diagonal."
   ]
  },
  {
   "cell_type": "code",
   "execution_count": 3,
   "metadata": {},
   "outputs": [
    {
     "data": {
      "text/latex": [
       "$\\Gamma^0_{10}=\\frac{0.5 r_{s}}{r \\left(r - r_{s}\\right)}$"
      ],
      "text/plain": [
       "<IPython.core.display.Latex object>"
      ]
     },
     "metadata": {},
     "output_type": "display_data"
    },
    {
     "data": {
      "text/latex": [
       "$\\Gamma^1_{00}=\\frac{0.5 r_{s} \\left(r - r_{s}\\right)}{r^{3}}$"
      ],
      "text/plain": [
       "<IPython.core.display.Latex object>"
      ]
     },
     "metadata": {},
     "output_type": "display_data"
    },
    {
     "data": {
      "text/latex": [
       "$\\Gamma^1_{11}=- \\frac{0.5 r_{s}}{r \\left(r - r_{s}\\right)}$"
      ],
      "text/plain": [
       "<IPython.core.display.Latex object>"
      ]
     },
     "metadata": {},
     "output_type": "display_data"
    },
    {
     "data": {
      "text/latex": [
       "$\\Gamma^1_{22}=- 1.0 r + 1.0 r_{s}$"
      ],
      "text/plain": [
       "<IPython.core.display.Latex object>"
      ]
     },
     "metadata": {},
     "output_type": "display_data"
    },
    {
     "data": {
      "text/latex": [
       "$\\Gamma^1_{33}=1.0 \\left(- r + r_{s}\\right) \\sin^{2}{\\left (\\theta \\right )}$"
      ],
      "text/plain": [
       "<IPython.core.display.Latex object>"
      ]
     },
     "metadata": {},
     "output_type": "display_data"
    },
    {
     "data": {
      "text/latex": [
       "$\\Gamma^2_{21}=\\frac{1.0}{r}$"
      ],
      "text/plain": [
       "<IPython.core.display.Latex object>"
      ]
     },
     "metadata": {},
     "output_type": "display_data"
    },
    {
     "data": {
      "text/latex": [
       "$\\Gamma^2_{33}=- 0.5 \\sin{\\left (2 \\theta \\right )}$"
      ],
      "text/plain": [
       "<IPython.core.display.Latex object>"
      ]
     },
     "metadata": {},
     "output_type": "display_data"
    },
    {
     "data": {
      "text/latex": [
       "$\\Gamma^3_{31}=\\frac{1.0}{r}$"
      ],
      "text/plain": [
       "<IPython.core.display.Latex object>"
      ]
     },
     "metadata": {},
     "output_type": "display_data"
    },
    {
     "data": {
      "text/latex": [
       "$\\Gamma^3_{32}=\\frac{1.0}{\\tan{\\left (\\theta \\right )}}$"
      ],
      "text/plain": [
       "<IPython.core.display.Latex object>"
      ]
     },
     "metadata": {},
     "output_type": "display_data"
    }
   ],
   "source": [
    "x = [t, r, th, ph]\n",
    "def dg(a, b, c):\n",
    "    return diff(g[a, b], x[c])\n",
    "\n",
    "def dgs(a, b, c, d):\n",
    "    terms = [\n",
    "        dg(d, b, c),\n",
    "        dg(d, c, b),\n",
    "        -dg(b,c, d)\n",
    "    ]\n",
    "    return sum(terms)\n",
    "\n",
    "def f_conn(a, b, c):\n",
    "    terms = []\n",
    "    for d in range(4):\n",
    "        if g_[a,d] == 0:\n",
    "            continue\n",
    "        terms.append(g_[a,d] * dgs(a,b,c,d))\n",
    "    return 1/2*sum(terms)\n",
    "\n",
    "def print_connection(a, b, c, conn):\n",
    "    print_eq('\\Gamma^{}_{{{}{}}}'.format(a,b,c), latex(simplify(conn)))\n",
    "\n",
    "connections = []\n",
    "for i in range(4):\n",
    "    connections.append([])\n",
    "    for j in range(4):\n",
    "        connections[i].append([])\n",
    "        for k in range(4):\n",
    "            conn = f_conn(i, j, k)\n",
    "            if conn != 0 and k<=j:\n",
    "                print_connection(i, j, k, conn)\n",
    "            connections[i][j].append(conn)"
   ]
  },
  {
   "cell_type": "markdown",
   "metadata": {},
   "source": [
    "The non-zero connection coefficients are shown above."
   ]
  },
  {
   "cell_type": "markdown",
   "metadata": {},
   "source": [
    "## Part b\n",
    "\n",
    "Next we calculate the geodesic equations of motion, and then show that we can obtain Kepler's third law from them."
   ]
  },
  {
   "cell_type": "code",
   "execution_count": 4,
   "metadata": {},
   "outputs": [
    {
     "data": {
      "text/latex": [
       "$\\frac{d^2t}{d\\tau^2}=\\frac{2.0 G M \\frac{dr}{d\\tau} \\frac{dt}{d\\tau}}{a \\left(2 G M - a\\right)}$"
      ],
      "text/plain": [
       "<IPython.core.display.Latex object>"
      ]
     },
     "metadata": {},
     "output_type": "display_data"
    },
    {
     "data": {
      "text/latex": [
       "$\\frac{d^2r}{d\\tau^2}=\\frac{1.0 \\left(- G M \\frac{dr}{d\\tau}^{2} a^{2} + G M \\frac{dt}{d\\tau}^{2} \\left(2 G M - a\\right)^{2} - a^{3} \\left(\\frac{d\\phi}{d\\tau}^{2} + \\frac{d\\theta}{d\\tau}^{2}\\right) \\left(2 G M - a\\right)^{2}\\right)}{a^{3} \\left(2 G M - a\\right)}$"
      ],
      "text/plain": [
       "<IPython.core.display.Latex object>"
      ]
     },
     "metadata": {},
     "output_type": "display_data"
    },
    {
     "data": {
      "text/latex": [
       "$\\frac{d^2\\theta}{d\\tau^2}=- \\frac{2.0 \\frac{d\\theta}{d\\tau} \\frac{dr}{d\\tau}}{a}$"
      ],
      "text/plain": [
       "<IPython.core.display.Latex object>"
      ]
     },
     "metadata": {},
     "output_type": "display_data"
    },
    {
     "data": {
      "text/latex": [
       "$\\frac{d^2\\phi}{d\\tau^2}=- \\frac{2.0 \\frac{d\\phi}{d\\tau} \\frac{dr}{d\\tau}}{a}$"
      ],
      "text/plain": [
       "<IPython.core.display.Latex object>"
      ]
     },
     "metadata": {},
     "output_type": "display_data"
    }
   ],
   "source": [
    "# u: representation of the first derivatives of t,x,theta, and phi\n",
    "u = [symbols('\\\\frac{{d{}}}{{d\\\\tau}}'.format(s)) for s in ('t', 'r', '\\\\theta', '\\\\phi')]\n",
    "def f_geodesic(i):\n",
    "    terms = []\n",
    "    for j in range(4):\n",
    "        for k in range(4):\n",
    "            terms.append(connections[i][j][k]*u[j]*u[k])\n",
    "    return simplify(-sum(terms))\n",
    "\n",
    "G, M, a = symbols('G M a')\n",
    "def geodesic_simplify(geo, prime=False):\n",
    "    geo = geo.subs(rs, 2*G*M).subs(r, a).subs(th,pi/2)\n",
    "    if prime:\n",
    "        geo = geo.subs(u[1], 0).subs(u[2], 0)\n",
    "    return simplify(geo)\n",
    "\n",
    "def print_geodesic(i, prime=False):\n",
    "    left = '\\\\frac{{d^2{}}}{{d\\\\tau^2}}'.format(latex(x[i]))\n",
    "    right = latex(geodesic_simplify(f_geodesic(i), prime))\n",
    "    print_eq(left, right)\n",
    "\n",
    "for i in range(4):\n",
    "    print_geodesic(i)"
   ]
  },
  {
   "cell_type": "markdown",
   "metadata": {},
   "source": [
    "The output above shows the geodesic equations for all variables. If we substitute $\\frac{d\\phi}{d\\tau}=\\frac{dr}{d\\tau}=0$, then all the geodesic equations vanish except the $r$ geodesic."
   ]
  },
  {
   "cell_type": "code",
   "execution_count": 5,
   "metadata": {},
   "outputs": [
    {
     "data": {
      "text/latex": [
       "$\\frac{d^2r}{d\\tau^2}=\\frac{1.0 \\left(2 G M - a\\right) \\left(G M \\frac{dt}{d\\tau}^{2} - \\frac{d\\phi}{d\\tau}^{2} a^{3}\\right)}{a^{3}}=0$"
      ],
      "text/plain": [
       "<IPython.core.display.Latex object>"
      ]
     },
     "metadata": {},
     "output_type": "display_data"
    }
   ],
   "source": [
    "left = '\\\\frac{{d^2{}}}{{d\\\\tau^2}}'.format(latex(x[1]))\n",
    "right = latex(geodesic_simplify(f_geodesic(1), True))\n",
    "s = '${}={}=0$'.format(left, right)\n",
    "display(Latex(s))"
   ]
  },
  {
   "cell_type": "markdown",
   "metadata": {},
   "source": [
    "The equation above can be rearranged for $\\omega=\\frac{d\\phi}{dt}$:\n",
    "\n",
    "$\\left(\\frac{d\\phi/d\\tau}{dt/d\\tau} \\right)^2 = \\omega^2 = \\frac{GM}{a^3}$\n",
    "\n",
    "We finally arrive at Kepler's third law from the geodesic equations of the Schwarzschild metric."
   ]
  },
  {
   "cell_type": "markdown",
   "metadata": {},
   "source": [
    "## Part c\n",
    "\n",
    "Next we calculate the Riemann tensor, and the Ricci tensor of the Schwarzschild metric."
   ]
  },
  {
   "cell_type": "code",
   "execution_count": 6,
   "metadata": {},
   "outputs": [
    {
     "data": {
      "text/latex": [
       "$R^0_{101} = \\frac{1.0 r_{s}}{r^{2} \\left(r - r_{s}\\right)}$"
      ],
      "text/plain": [
       "<IPython.core.display.Latex object>"
      ]
     },
     "metadata": {},
     "output_type": "display_data"
    },
    {
     "data": {
      "text/latex": [
       "$R^0_{110} = - \\frac{1.0 r_{s}}{r^{2} \\left(r - r_{s}\\right)}$"
      ],
      "text/plain": [
       "<IPython.core.display.Latex object>"
      ]
     },
     "metadata": {},
     "output_type": "display_data"
    },
    {
     "data": {
      "text/latex": [
       "$R^0_{202} = - \\frac{0.5 r_{s}}{r}$"
      ],
      "text/plain": [
       "<IPython.core.display.Latex object>"
      ]
     },
     "metadata": {},
     "output_type": "display_data"
    },
    {
     "data": {
      "text/latex": [
       "$R^0_{220} = \\frac{0.5 r_{s}}{r}$"
      ],
      "text/plain": [
       "<IPython.core.display.Latex object>"
      ]
     },
     "metadata": {},
     "output_type": "display_data"
    },
    {
     "data": {
      "text/latex": [
       "$R^0_{303} = - \\frac{0.5 r_{s} \\sin^{2}{\\left (\\theta \\right )}}{r}$"
      ],
      "text/plain": [
       "<IPython.core.display.Latex object>"
      ]
     },
     "metadata": {},
     "output_type": "display_data"
    },
    {
     "data": {
      "text/latex": [
       "$R^0_{330} = \\frac{0.5 r_{s} \\sin^{2}{\\left (\\theta \\right )}}{r}$"
      ],
      "text/plain": [
       "<IPython.core.display.Latex object>"
      ]
     },
     "metadata": {},
     "output_type": "display_data"
    },
    {
     "data": {
      "text/latex": [
       "$R^1_{001} = \\frac{1.0 r_{s} \\left(r - r_{s}\\right)}{r^{4}}$"
      ],
      "text/plain": [
       "<IPython.core.display.Latex object>"
      ]
     },
     "metadata": {},
     "output_type": "display_data"
    },
    {
     "data": {
      "text/latex": [
       "$R^1_{010} = - \\frac{1.0 r_{s} \\left(r - r_{s}\\right)}{r^{4}}$"
      ],
      "text/plain": [
       "<IPython.core.display.Latex object>"
      ]
     },
     "metadata": {},
     "output_type": "display_data"
    },
    {
     "data": {
      "text/latex": [
       "$R^1_{212} = - \\frac{0.5 r_{s}}{r}$"
      ],
      "text/plain": [
       "<IPython.core.display.Latex object>"
      ]
     },
     "metadata": {},
     "output_type": "display_data"
    },
    {
     "data": {
      "text/latex": [
       "$R^1_{221} = \\frac{0.5 r_{s}}{r}$"
      ],
      "text/plain": [
       "<IPython.core.display.Latex object>"
      ]
     },
     "metadata": {},
     "output_type": "display_data"
    },
    {
     "data": {
      "text/latex": [
       "$R^1_{313} = - \\frac{0.5 r_{s} \\sin^{2}{\\left (\\theta \\right )}}{r}$"
      ],
      "text/plain": [
       "<IPython.core.display.Latex object>"
      ]
     },
     "metadata": {},
     "output_type": "display_data"
    },
    {
     "data": {
      "text/latex": [
       "$R^1_{331} = \\frac{0.5 r_{s} \\sin^{2}{\\left (\\theta \\right )}}{r}$"
      ],
      "text/plain": [
       "<IPython.core.display.Latex object>"
      ]
     },
     "metadata": {},
     "output_type": "display_data"
    },
    {
     "data": {
      "text/latex": [
       "$R^2_{002} = - \\frac{0.5 r_{s} \\left(r - r_{s}\\right)}{r^{4}}$"
      ],
      "text/plain": [
       "<IPython.core.display.Latex object>"
      ]
     },
     "metadata": {},
     "output_type": "display_data"
    },
    {
     "data": {
      "text/latex": [
       "$R^2_{020} = \\frac{0.5 r_{s} \\left(r - r_{s}\\right)}{r^{4}}$"
      ],
      "text/plain": [
       "<IPython.core.display.Latex object>"
      ]
     },
     "metadata": {},
     "output_type": "display_data"
    },
    {
     "data": {
      "text/latex": [
       "$R^2_{112} = \\frac{0.5 r_{s}}{r^{2} \\left(r - r_{s}\\right)}$"
      ],
      "text/plain": [
       "<IPython.core.display.Latex object>"
      ]
     },
     "metadata": {},
     "output_type": "display_data"
    },
    {
     "data": {
      "text/latex": [
       "$R^2_{121} = - \\frac{0.5 r_{s}}{r^{2} \\left(r - r_{s}\\right)}$"
      ],
      "text/plain": [
       "<IPython.core.display.Latex object>"
      ]
     },
     "metadata": {},
     "output_type": "display_data"
    },
    {
     "data": {
      "text/latex": [
       "$R^2_{323} = \\frac{1.0 r_{s} \\sin^{2}{\\left (\\theta \\right )}}{r}$"
      ],
      "text/plain": [
       "<IPython.core.display.Latex object>"
      ]
     },
     "metadata": {},
     "output_type": "display_data"
    },
    {
     "data": {
      "text/latex": [
       "$R^2_{332} = - \\frac{1.0 r_{s} \\sin^{2}{\\left (\\theta \\right )}}{r}$"
      ],
      "text/plain": [
       "<IPython.core.display.Latex object>"
      ]
     },
     "metadata": {},
     "output_type": "display_data"
    },
    {
     "data": {
      "text/latex": [
       "$R^3_{003} = - \\frac{0.5 r_{s} \\left(r - r_{s}\\right)}{r^{4}}$"
      ],
      "text/plain": [
       "<IPython.core.display.Latex object>"
      ]
     },
     "metadata": {},
     "output_type": "display_data"
    },
    {
     "data": {
      "text/latex": [
       "$R^3_{030} = \\frac{0.5 r_{s} \\left(r - r_{s}\\right)}{r^{4}}$"
      ],
      "text/plain": [
       "<IPython.core.display.Latex object>"
      ]
     },
     "metadata": {},
     "output_type": "display_data"
    },
    {
     "data": {
      "text/latex": [
       "$R^3_{113} = \\frac{0.5 r_{s}}{r^{2} \\left(r - r_{s}\\right)}$"
      ],
      "text/plain": [
       "<IPython.core.display.Latex object>"
      ]
     },
     "metadata": {},
     "output_type": "display_data"
    },
    {
     "data": {
      "text/latex": [
       "$R^3_{131} = - \\frac{0.5 r_{s}}{r^{2} \\left(r - r_{s}\\right)}$"
      ],
      "text/plain": [
       "<IPython.core.display.Latex object>"
      ]
     },
     "metadata": {},
     "output_type": "display_data"
    },
    {
     "data": {
      "text/latex": [
       "$R^3_{223} = - \\frac{1.0 r_{s}}{r}$"
      ],
      "text/plain": [
       "<IPython.core.display.Latex object>"
      ]
     },
     "metadata": {},
     "output_type": "display_data"
    },
    {
     "data": {
      "text/latex": [
       "$R^3_{232} = \\frac{1.0 r_{s}}{r}$"
      ],
      "text/plain": [
       "<IPython.core.display.Latex object>"
      ]
     },
     "metadata": {},
     "output_type": "display_data"
    }
   ],
   "source": [
    "def f_riemann(a, b, c, d):\n",
    "    terms = [\n",
    "        diff(f_conn(a,b,d), x[c]),\n",
    "        -diff(f_conn(a,b,c), x[d])\n",
    "    ]\n",
    "    \n",
    "    for i in range(4):\n",
    "        terms.append(f_conn(a,c,i)*f_conn(i,b,d))\n",
    "        \n",
    "    for i in range(4):\n",
    "        terms.append(-f_conn(a,d,i)*f_conn(i,b,c))\n",
    "        \n",
    "    return sum(terms)\n",
    "\n",
    "def print_riemann(a, b, c, d, R):\n",
    "    text = Latex('$R^{}_{{{}{}{}}} = {}$'.format(a,b,c,d, latex(simplify(R))))\n",
    "    display(text)\n",
    "\n",
    "riemann = []\n",
    "for i in range(4):\n",
    "    riemann.append([])\n",
    "    for j in range(4):\n",
    "        riemann[i].append([])\n",
    "        for k in range(4):\n",
    "            riemann[i][j].append([])\n",
    "            for l in range(4):\n",
    "                R = f_riemann(i, j, k, l)\n",
    "                riemann[i][j][k].append(R)\n",
    "                if R != 0:\n",
    "                    print_riemann(i, j, k, l, R)\n",
    "            "
   ]
  },
  {
   "cell_type": "markdown",
   "metadata": {},
   "source": [
    "The nonzero components of the Riemann curvature are shown above. In the next cell we use the Riemann components to calculate the Ricci tensor."
   ]
  },
  {
   "cell_type": "code",
   "execution_count": 7,
   "metadata": {},
   "outputs": [
    {
     "data": {
      "text/latex": [
       "$R_{\\alpha\\beta}=\\left[\\begin{matrix}0 & 0 & 0 & 0\\\\0 & 0 & 0 & 0\\\\0 & 0 & 0 & 0\\\\0 & 0 & 0 & 0\\end{matrix}\\right]$"
      ],
      "text/plain": [
       "<IPython.core.display.Latex object>"
      ]
     },
     "metadata": {},
     "output_type": "display_data"
    }
   ],
   "source": [
    "ricci = []\n",
    "for i in range(4):\n",
    "    ricci.append([])\n",
    "    for j in range(4):\n",
    "        terms = []\n",
    "        for k in range(4):\n",
    "            terms.append(riemann[k][i][k][j])\n",
    "        ricci[i].append(simplify(sum(terms)))\n",
    "        \n",
    "print_eq('R_{\\\\alpha\\\\beta}', latex(Matrix(ricci)))"
   ]
  },
  {
   "cell_type": "markdown",
   "metadata": {},
   "source": [
    "The ricci tensor of the Schwarzschild metric is 0. This means that the Schwarzschild metric is a vacuum solution to the Einstein equation."
   ]
  }
 ],
 "metadata": {
  "kernelspec": {
   "display_name": "physics",
   "language": "python",
   "name": "physics"
  },
  "language_info": {
   "codemirror_mode": {
    "name": "ipython",
    "version": 3
   },
   "file_extension": ".py",
   "mimetype": "text/x-python",
   "name": "python",
   "nbconvert_exporter": "python",
   "pygments_lexer": "ipython3",
   "version": "3.6.7"
  }
 },
 "nbformat": 4,
 "nbformat_minor": 2
}
